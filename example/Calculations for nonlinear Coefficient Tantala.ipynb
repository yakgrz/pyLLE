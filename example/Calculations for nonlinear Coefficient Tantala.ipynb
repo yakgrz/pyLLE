{
 "cells": [
  {
   "cell_type": "code",
   "execution_count": 2,
   "id": "d41bdd1d",
   "metadata": {},
   "outputs": [],
   "source": [
    "import numpy as np\n",
    "import csv\n",
    "import matplotlib.pyplot as plt"
   ]
  },
  {
   "cell_type": "code",
   "execution_count": 3,
   "id": "95a57c7f",
   "metadata": {},
   "outputs": [
    {
     "name": "stdout",
     "output_type": "stream",
     "text": [
      "0.46834246334531376\n",
      "2.027261081269995\n"
     ]
    }
   ],
   "source": [
    "#speed of light \n",
    "c0 = 299792458 #(m/s)\n",
    "n_2= 2.e-19 #(m^2/W)\n",
    "om_1550 = 2*np.pi*c0/(1550.e-9) #angular frequency for 1550nm light\n",
    "A_1550 = 1.73107e-12#mode area from Lumerical of the fundamental 1550nm TE mode (m^2)\n",
    "om_1064 = 2*np.pi*c0/(1064.e-9) #angular frequency for 1064nm light\n",
    "A_1064 = 0.582584e-12 #mode area from Lumerical of the fundamental 1064nm TE mode (m^2)\n",
    "\n",
    "gam_1550=n_2*om_1550/(c0*A_1550) #nonlinear coefficient for 1550nm mode in 1/(m W)\n",
    "gam_1064=n_2*om_1064/(c0*A_1064) #nonlinear coefficient for 1064nm mode in 1/(m W)\n",
    "print(gam_1550)\n",
    "print(gam_1064)"
   ]
  },
  {
   "cell_type": "code",
   "execution_count": 13,
   "id": "67a5f6d4",
   "metadata": {},
   "outputs": [
    {
     "name": "stdout",
     "output_type": "stream",
     "text": [
      "[-10.  -9.  -8.  -7.  -6.  -5.  -4.  -3.  -2.  -1.   0.   1.   2.   3.\n",
      "   4.   5.   6.   7.   8.   9.  10.]\n"
     ]
    },
    {
     "data": {
      "image/png": "[encoded data removed]",
      "text/plain": [
       "<Figure size 640x480 with 1 Axes>"
      ]
     },
     "metadata": {},
     "output_type": "display_data"
    }
   ],
   "source": [
    "mu_b=-10\n",
    "mu_t=10\n",
    "mus=np.linspace(mu_b,mu_t,mu_t-mu_b+1)\n",
    "print(mus)\n",
    "#bragg splitting in Hz\n",
    "BG=1.5*1e9\n",
    "D_0=0\n",
    "#FSR was about 1THz\n",
    "D_1=240.5e9\n",
    "#guessing D_2 here\n",
    "D_2=159.68e6\n",
    "v_pump=193.4144890323e12 #1550nm in THz\n",
    "#constructing integrated dispersion\n",
    "Dint=np.zeros(len(mus))\n",
    "for i in range(len(mus)):\n",
    "    if mus[i] in [0,-3,3]:\n",
    "        Dint[i]=0.0\n",
    "    else:\n",
    "        Dint[i]=-D_2/2*mus[i]**2+BG/2+D_0\n",
    "plt.plot(mus,Dint/1e9, \"r*\")\n",
    "#plt.ylim([-5,5])\n",
    "#plt.xlim([-20,20])\n",
    "plt.xlabel(\"Mode Number\")\n",
    "plt.ylabel(r\"$D_{int}$ (GHz)\")\n",
    "with open(\"Tantala_test_PhCr_Disp_1500MHz.csv\",\"w\") as csvfile:\n",
    "    csvwriter=csv.writer(csvfile)\n",
    "    for i in range(len(mus)):\n",
    "        row=[mus[i],Dint[i]+D_1*mus[i]+v_pump]\n",
    "        csvwriter.writerow(row)\n",
    "\n",
    "    "
   ]
  },
  {
   "cell_type": "code",
   "execution_count": 9,
   "id": "1d733aa6",
   "metadata": {},
   "outputs": [
    {
     "name": "stdout",
     "output_type": "stream",
     "text": [
      "981.8001748438126\n",
      "324.5\n"
     ]
    }
   ],
   "source": [
    "print((371084056760649.44-370102256585805.6)/1e9)\n",
    "print((100+549)/2)"
   ]
  },
  {
   "cell_type": "code",
   "execution_count": null,
   "id": "d87a1087",
   "metadata": {},
   "outputs": [],
   "source": []
  }
 ],
 "metadata": {
  "kernelspec": {
   "display_name": "Python 3 (ipykernel)",
   "language": "python",
   "name": "python3"
  },
  "language_info": {
   "codemirror_mode": {
    "name": "ipython",
    "version": 3
   },
   "file_extension": ".py",
   "mimetype": "text/x-python",
   "name": "python",
   "nbconvert_exporter": "python",
   "pygments_lexer": "ipython3",
   "version": "3.10.4"
  }
 },
 "nbformat": 4,
 "nbformat_minor": 5
}
