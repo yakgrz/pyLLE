{
 "cells": [
  {
   "cell_type": "code",
   "execution_count": 10,
   "id": "abefec03",
   "metadata": {},
   "outputs": [],
   "source": [
    "import numpy as np\n",
    "import csv\n",
    "import matplotlib.pyplot as plt"
   ]
  },
  {
   "cell_type": "code",
   "execution_count": 11,
   "id": "9fe03e6f",
   "metadata": {},
   "outputs": [
    {
     "name": "stdout",
     "output_type": "stream",
     "text": [
      "1.8199571642510575\n",
      "4.05452216253999\n"
     ]
    }
   ],
   "source": [
    "#speed of light \n",
    "c0 = 299792458 #(m/s)\n",
    "n_2= 4.e-19 #(m^2/W)\n",
    "om_1550 = 2*np.pi*c0/(1550.e-9) #angular frequency for 1550nm light\n",
    "A_1550 = 0.890937e-12 #mode area from Lumerical of the fundamental 1550nm TE mode (m^2)\n",
    "om_1064 = 2*np.pi*c0/(1064.e-9) #angular frequency for 1064nm light\n",
    "A_1064 = 0.582584e-12 #mode area from Lumerical of the fundamental 1064nm TE mode (m^2)\n",
    "\n",
    "gam_1550=n_2*om_1550/(c0*A_1550) #nonlinear coefficient for 1550nm mode in 1/(m W)\n",
    "gam_1064=n_2*om_1064/(c0*A_1064) #nonlinear coefficient for 1064nm mode in 1/(m W)\n",
    "print(gam_1550)\n",
    "print(gam_1064)"
   ]
  },
  {
   "cell_type": "code",
   "execution_count": 77,
   "id": "f4b4b172",
   "metadata": {},
   "outputs": [
    {
     "name": "stdout",
     "output_type": "stream",
     "text": [
      "[-100.  -99.  -98.  -97.  -96.  -95.  -94.  -93.  -92.  -91.  -90.  -89.\n",
      "  -88.  -87.  -86.  -85.  -84.  -83.  -82.  -81.  -80.  -79.  -78.  -77.\n",
      "  -76.  -75.  -74.  -73.  -72.  -71.  -70.  -69.  -68.  -67.  -66.  -65.\n",
      "  -64.  -63.  -62.  -61.  -60.  -59.  -58.  -57.  -56.  -55.  -54.  -53.\n",
      "  -52.  -51.  -50.  -49.  -48.  -47.  -46.  -45.  -44.  -43.  -42.  -41.\n",
      "  -40.  -39.  -38.  -37.  -36.  -35.  -34.  -33.  -32.  -31.  -30.  -29.\n",
      "  -28.  -27.  -26.  -25.  -24.  -23.  -22.  -21.  -20.  -19.  -18.  -17.\n",
      "  -16.  -15.  -14.  -13.  -12.  -11.  -10.   -9.   -8.   -7.   -6.   -5.\n",
      "   -4.   -3.   -2.   -1.    0.    1.    2.    3.    4.    5.    6.    7.\n",
      "    8.    9.   10.   11.   12.   13.   14.   15.   16.   17.   18.   19.\n",
      "   20.   21.   22.   23.   24.   25.   26.   27.   28.   29.   30.   31.\n",
      "   32.   33.   34.   35.   36.   37.   38.   39.   40.   41.   42.   43.\n",
      "   44.   45.   46.   47.   48.   49.   50.   51.   52.   53.   54.   55.\n",
      "   56.   57.   58.   59.   60.   61.   62.   63.   64.   65.   66.   67.\n",
      "   68.   69.   70.   71.   72.   73.   74.   75.   76.   77.   78.   79.\n",
      "   80.   81.   82.   83.   84.   85.   86.   87.   88.   89.   90.   91.\n",
      "   92.   93.   94.   95.   96.   97.   98.   99.  100.]\n"
     ]
    },
    {
     "data": {
      "image/png": "[encoded data removed]",
      "text/plain": [
       "<Figure size 640x480 with 1 Axes>"
      ]
     },
     "metadata": {},
     "output_type": "display_data"
    }
   ],
   "source": [
    "mu_b=-100\n",
    "mu_t=100\n",
    "mus=np.linspace(mu_b,mu_t,mu_t-mu_b+1)\n",
    "print(mus)\n",
    "#bragg splitting in Hz\n",
    "BG=4.2e9 \n",
    "D_0=BG/6\n",
    "#FSR was about 1THz\n",
    "D_1=1000e9\n",
    "#guessing D_2 here\n",
    "D_2=38.5e6\n",
    "v_pump=193.4144890323e12 #1550nm in THz\n",
    "#constructing integrated dispersion\n",
    "Dint=np.zeros(len(mus))\n",
    "for i in range(len(mus)):\n",
    "    if mus[i] in [0,12,-12]:\n",
    "        Dint[i]=0.0\n",
    "    else:\n",
    "        Dint[i]=-D_2/2*mus[i]**2+BG/2+D_0\n",
    "plt.plot(mus,Dint/1e9, \"r*\")\n",
    "plt.ylim([-5,5])\n",
    "with open(\"Tantala_test_PhCr_Disp.csv\",\"w\") as csvfile:\n",
    "    csvwriter=csv.writer(csvfile)\n",
    "    for i in range(len(mus)):\n",
    "        row=[mus[i],Dint[i]+D_1*mus[i]+v_pump]\n",
    "        csvwriter.writerow(row)\n",
    "\n",
    "    "
   ]
  },
  {
   "cell_type": "code",
   "execution_count": 9,
   "id": "3c7b1236",
   "metadata": {},
   "outputs": [
    {
     "name": "stdout",
     "output_type": "stream",
     "text": [
      "981.8001748438126\n",
      "324.5\n"
     ]
    }
   ],
   "source": [
    "print((371084056760649.44-370102256585805.6)/1e9)\n",
    "print((100+549)/2)"
   ]
  },
  {
   "cell_type": "code",
   "execution_count": null,
   "id": "5dfad99b",
   "metadata": {},
   "outputs": [],
   "source": []
  }
 ],
 "metadata": {
  "kernelspec": {
   "display_name": "Python 3 (ipykernel)",
   "language": "python",
   "name": "python3"
  },
  "language_info": {
   "codemirror_mode": {
    "name": "ipython",
    "version": 3
   },
   "file_extension": ".py",
   "mimetype": "text/x-python",
   "name": "python",
   "nbconvert_exporter": "python",
   "pygments_lexer": "ipython3",
   "version": "3.10.4"
  }
 },
 "nbformat": 4,
 "nbformat_minor": 5
}
