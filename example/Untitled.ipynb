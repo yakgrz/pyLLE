{
 "cells": [
  {
   "cell_type": "code",
   "execution_count": 9,
   "id": "4e27a932",
   "metadata": {},
   "outputs": [],
   "source": [
    "using HDF5\n",
    "using PlotlyJS\n",
    "using Pandas\n",
    "using Polynomials\n",
    "#using Unitful\n",
    "#using Pandas\n",
    "using FFTW\n",
    "using LinearAlgebra\n",
    "#using DifferentialEquations\n",
    "#using ForwardDiff\n",
    "#using Interpolations\n",
    "#using PhysicalConstants.CODATA2018: c_0\n",
    "#using Debugger\n",
    "#using TimerOutputs"
   ]
  },
  {
   "cell_type": "code",
   "execution_count": null,
   "id": "c39e7799",
   "metadata": {},
   "outputs": [],
   "source": [
    "ΔM = Array([-2, -1, 0, 1, 2]);\n",
    "μ = values(df.M - loc(df)[indx_pmp[1]].M);"
   ]
  },
  {
   "cell_type": "code",
   "execution_count": 32,
   "id": "1b293e39",
   "metadata": {},
   "outputs": [
    {
     "name": "stdout",
     "output_type": "stream",
     "text": [
      "0\n",
      "0\n",
      "µ\n",
      "[-2, -1, 0, 1, 2]\n"
     ]
    },
    {
     "data": {
      "text/plain": [
       "5×1 Matrix{ComplexF64}:\n",
       " 2.767793053473554e-79 + 0.0im\n",
       " 3.857499695927863e-14 + 0.0im\n",
       "                 2.0e8 + 0.0im\n",
       " 3.857499695927863e-14 + 0.0im\n",
       " 2.767793053473554e-79 + 0.0im"
      ]
     },
     "execution_count": 32,
     "metadata": {},
     "output_type": "execute_result"
    }
   ],
   "source": [
    "BraggSplits=[0;;];\n",
    "loop_modes=[0;;];\n",
    "\n",
    "\n",
    "µ=[-2, -1, 0, 1, 2];\n",
    "Bragg_R=2e8\n",
    "\n",
    "\n",
    "μsplit_Bragg = BraggSplits #.+ μ0 .+ 1\n",
    "println(μsplit_Bragg[1])\n",
    "μsplit_Loop = loop_modes#  .+ μ0 .+ 1\n",
    "println(μsplit_Loop[1])\n",
    "#for now just set decay of Braggs and loop reflection to be pretty sharp\n",
    "σ_Bragg = zeros(length(μ),1) .+ .1\n",
    "σ_Loop = zeros(length(μ),1) .+ .0001\n",
    "CoupleBragg = 1im*zeros(length(μ),1)\n",
    "println(\"µ\")\n",
    "println(µ)\n",
    "for ii in collect(1:length(μsplit_Bragg))\n",
    "    CoupleBragg .= CoupleBragg .+ Bragg_R .* exp.(-(µ .- μsplit_Bragg[ii]).^2/(2*σ_Bragg[ii]^2))\n",
    "end\n",
    "CoupleBragg"
   ]
  },
  {
   "cell_type": "code",
   "execution_count": 13,
   "id": "d33538e5",
   "metadata": {},
   "outputs": [
    {
     "data": {
      "text/plain": [
       "FFTW forward plan for 5×1 array of ComplexF64\n",
       "(dft-direct-5 \"n1fv_5_neon\")"
      ]
     },
     "execution_count": 13,
     "metadata": {},
     "output_type": "execute_result"
    }
   ],
   "source": [
    "# -- Allocate FFT to go faster --\n",
    "ifft_plan = FFTW.plan_ifft(zeros(length(μ), 1))\n",
    "fft_plan = FFTW.plan_fft(zeros(length(μ), 1))"
   ]
  },
  {
   "cell_type": "code",
   "execution_count": 30,
   "id": "ac5b649a",
   "metadata": {},
   "outputs": [
    {
     "name": "stdout",
     "output_type": "stream",
     "text": [
      "Bragg vector\n",
      "ComplexF64[2.767793053473554e-79 + 0.0im; 3.857499695927863e-14 + 0.0im; 2.0e8 + 0.0im; 3.857499695927863e-14 + 0.0im; 2.767793053473554e-79 + 0.0im;;]\n",
      "shift\n",
      "ComplexF64[3.857499695927863e-14 + 0.0im; 2.767793053473554e-79 + 0.0im; 2.767793053473554e-79 + 0.0im; 3.857499695927863e-14 + 0.0im; 2.0e8 + 0.0im;;]\n",
      "no shift \n",
      "ComplexF64[4.0e7 + 0.0im; -3.2360679774997905e7 + 2.351141009169893e7im; 1.23606797749979e7 - 3.804226065180614e7im; 1.23606797749979e7 + 3.804226065180614e7im; -3.2360679774997905e7 - 2.351141009169893e7im;;]\n"
     ]
    }
   ],
   "source": [
    "println(\"Bragg vector\")\n",
    "println(CoupleBragg)\n",
    "#CoupleBraggShift=CoupleBragg\n",
    "println(\"shift\")\n",
    "CoupleBraggShift=FFTW.fftshift(CoupleBragg)#.*length(μ)\n",
    "println(CoupleBraggShift)\n",
    "println(\"no shift \")\n",
    "CoupleBraggShift=ifft_plan* (CoupleBragg)\n",
    "println(CoupleBraggShift)"
   ]
  },
  {
   "cell_type": "code",
   "execution_count": 34,
   "id": "11906198",
   "metadata": {},
   "outputs": [
    {
     "name": "stdout",
     "output_type": "stream",
     "text": [
      "0.001\n",
      "Matrix{ComplexF64}[[0.15811388300841894 + 0.0im; 0.0 + 0.0im; 0.0 + 0.0im; 0.0 + 0.0im; 0.0 + 0.0im;;]]\n",
      "Matrix{ComplexF64}[[0.03162277660168379 + 0.0im; -0.02558336368008464 + 0.018587401723009222im; 0.00977197537924274 - 0.030075047750377278im; 0.00977197537924274 + 0.030075047750377278im; -0.02558336368008464 - 0.018587401723009222im;;]]\n"
     ]
    }
   ],
   "source": [
    "fpmp=[123]\n",
    "Ain = [1im*zeros(length(μ),1) for ii in collect(1:length(fpmp))]\n",
    "Ein = [1im*zeros(length(μ),1) for ii in collect(1:length(fpmp))]\n",
    "Ppmp=1e-3;\n",
    "println(Ppmp)\n",
    "μpmp=0\n",
    "φpmp=[0]\n",
    "ind_pmp=[1]\n",
    "for ii in collect(1:length(fpmp))\n",
    "    Ein_ = sqrt(Ppmp[ii])*length(μ)\n",
    "    Ein[ii][Int(μpmp+ind_pmp[ii])] = Ein_\n",
    "    Ain[ii]= ifft_plan*(FFTW.fftshift(Ein[ii])) .* exp(-1im.*φpmp[ii])\n",
    "end\n",
    "println(Ein)\n",
    "println(Ain)"
   ]
  },
  {
   "cell_type": "code",
   "execution_count": null,
   "id": "32663305",
   "metadata": {},
   "outputs": [],
   "source": []
  }
 ],
 "metadata": {
  "kernelspec": {
   "display_name": "Julia 1.9.4",
   "language": "julia",
   "name": "julia-1.9"
  },
  "language_info": {
   "file_extension": ".jl",
   "mimetype": "application/julia",
   "name": "julia",
   "version": "1.9.4"
  }
 },
 "nbformat": 4,
 "nbformat_minor": 5
}
