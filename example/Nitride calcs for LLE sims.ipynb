{
 "cells": [
  {
   "cell_type": "code",
   "execution_count": 1,
   "id": "85ba7a8a",
   "metadata": {},
   "outputs": [],
   "source": [
    "import numpy as np\n",
    "import csv\n",
    "import matplotlib.pyplot as plt"
   ]
  },
  {
   "cell_type": "code",
   "execution_count": 4,
   "id": "7f256629",
   "metadata": {},
   "outputs": [],
   "source": [
    "def gamma(wl,A,n_2):\n",
    "    \"\"\"\n",
    "    given nm in wavelength of the pump mode, and mode volume A (in um^2) and the\n",
    "    kerr coeff of the material (in m^2/W), computes nonlinear coefficient for LLE sims, gamma\n",
    "    \"\"\"\n",
    "    c0 = 299792458 #(m/s)\n",
    "    om=2*np.pi*c0/(wl*1e-9)\n",
    "    return n_2*om/(c0*A*1e-12)\n",
    "\n",
    "def make_dispersion(D2,D1,pumpf,bragg_split,mu_b,mu_t,csv_name,plot=False):\n",
    "    mus=np.linspace(mu_b,mu_t,mu_t+abs(mu_b)+1)\n",
    "    D_int=[]\n",
    "    for mu in mus:\n",
    "        if mu==0:\n",
    "            D_int.append(pump_f)\n",
    "        else:\n",
    "            D_int.append(D2*mu**2+bragg_split/2)\n",
    "    if plot:\n",
    "        plt.plot(mus,D_int/1e9, \"r*\")\n",
    "        plt.ylim([-5,5])\n",
    "    D_int=np.array(D_int)\n",
    "    with open(csv_name,\"w\") as csvfile:\n",
    "        csvwriter=csv.writer(csvfile)\n",
    "        for i in range(len(mus)):\n",
    "            row=[mus[i],Dint[i]+D_1*mus[i]+v_pump]\n",
    "            csvwriter.writerow(row)\n",
    "    return D_int"
   ]
  },
  {
   "cell_type": "code",
   "execution_count": 3,
   "id": "73e637df",
   "metadata": {},
   "outputs": [
    {
     "name": "stdout",
     "output_type": "stream",
     "text": [
      "[0.46788363552209217, 0.4505326965500639, 0.46229252193216575, 0.42849310695029785, 0.44818088563807496, 0.43941999209410276]\n"
     ]
    }
   ],
   "source": [
    "wls=[1551.52,1571.66,1557.91,1598.64,1574.46,1585.05]\n",
    "As=[1.73107,1.7747,1.74482,1.83449,1.78084,1.80421]\n",
    "n2_nitride=2e-19\n",
    "gams=[]\n",
    "for i in range(len(wls)):\n",
    "    gams.append(gamma(wls[i],As[i],n2_nitride))\n",
    "print(gams)"
   ]
  },
  {
   "cell_type": "code",
   "execution_count": 9,
   "id": "30131459",
   "metadata": {},
   "outputs": [
    {
     "name": "stdout",
     "output_type": "stream",
     "text": [
      "248.75599765595803\n"
     ]
    }
   ],
   "source": [
    "c0 = 299792458 #(m/s)\n",
    "pump1=193.22500386717542e12 #pump frequency in THz (rough location of bragg mode)\n",
    "ng=1.957227\n",
    "r=98e-6#ring radius in m\n",
    "L=2*np.pi*r\n",
    "lamb=1551.52e-9\n",
    "D1=c0/(ng*L)\n",
    "print(D1/1e9)"
   ]
  },
  {
   "cell_type": "code",
   "execution_count": null,
   "id": "90777675",
   "metadata": {},
   "outputs": [],
   "source": [
    "#speed of light \n",
    "c0 = 299792458 #(m/s)\n",
    "n_2= 4.e-19 #(m^2/W)\n",
    "om_1550 = 2*np.pi*c0/(1550.e-9) #angular frequency for 1550nm light\n",
    "A_1550 = 0.890937e-12 #mode area from Lumerical of the fundamental 1550nm TE mode (m^2)\n",
    "om_1064 = 2*np.pi*c0/(1064.e-9) #angular frequency for 1064nm light\n",
    "A_1064 = 0.582584e-12 #mode area from Lumerical of the fundamental 1064nm TE mode (m^2)\n",
    "\n",
    "gam_1550=n_2*om_1550/(c0*A_1550) #nonlinear coefficient for 1550nm mode in 1/(m W)\n",
    "gam_1064=n_2*om_1064/(c0*A_1064) #nonlinear coefficient for 1064nm mode in 1/(m W)\n",
    "print(gam_1550)\n",
    "print(gam_1064)"
   ]
  }
 ],
 "metadata": {
  "kernelspec": {
   "display_name": "Python 3 (ipykernel)",
   "language": "python",
   "name": "python3"
  },
  "language_info": {
   "codemirror_mode": {
    "name": "ipython",
    "version": 3
   },
   "file_extension": ".py",
   "mimetype": "text/x-python",
   "name": "python",
   "nbconvert_exporter": "python",
   "pygments_lexer": "ipython3",
   "version": "3.10.4"
  }
 },
 "nbformat": 4,
 "nbformat_minor": 5
}
