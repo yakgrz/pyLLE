{
 "cells": [
  {
   "cell_type": "code",
   "execution_count": null,
   "metadata": {},
   "outputs": [],
   "source": []
  },
  {
   "cell_type": "markdown",
   "metadata": {},
   "source": [
    "Now we're gonna test the bidirectional LLEs on the material from pyLLE example notebook, but going to change some parameters like Bragg Splitting\n"
   ]
  },
  {
   "cell_type": "markdown",
   "metadata": {},
   "source": [
    "First, Bragg=0, no pump reflector=0\n",
    "Should be have similarly to original example (may have some differences due to\n",
    "XPM term now included, but ideally that shouldn't be nonzero at any point???)"
   ]
  },
  {
   "cell_type": "code",
   "execution_count": null,
   "metadata": {},
   "outputs": [],
   "source": [
    "import os \n",
    "import sys\n",
    "import inspect\n",
    "\n",
    "currentdir = os.getcwd()\n",
    "parentdir = os.path.dirname(currentdir)\n",
    "sys.path.insert(0, parentdir) \n",
    "\n",
    "import pyLLE\n",
    "import numpy as np\n",
    "from scipy import constants as cts\n",
    "import pandas as pd\n",
    "import pickle as pkl\n",
    "import plotly.graph_objs as go\n",
    "import plotly.graph_objs\n",
    "import plotly.io as pio\n",
    "import time\n",
    "pio.renderers.default = \"notebook\"\n",
    "pio.templates.default = \"seaborn\""
   ]
  },
  {
   "cell_type": "code",
   "execution_count": null,
   "metadata": {},
   "outputs": [],
   "source": [
    "#loop reflector parameters\n",
    "r=0.0\n",
    "phi=np.pi\n",
    "R=np.sqrt(r)*np.exp(1j*phi)\n",
    "res = dict(\n",
    "        R=23e-6, \n",
    "        Qi=1e6, \n",
    "        Qc=1e6, \n",
    "        γ=3.2, \n",
    "        dispfile=\"./RW1000_H430.csv\",\n",
    "        Bragg=0.0e9,#In terms of frequency shift that the pump mode observes due to bragg\n",
    "        loop_ref_real=np.real(R),\n",
    "        loop_ref_imag=np.imag(R) #Reflection coefficient induced effectively by the isolator+loop\n",
    "\n",
    ")\n",
    "\n",
    "sim = dict(\n",
    "    Pin=[140e-3], \n",
    "    f_pmp=[283e12],\n",
    "    φ_pmp=[0], \n",
    "    δω=[None], \n",
    "    Tscan=0.7e6,\n",
    "    μ_sim=[-220, 220],\n",
    "    δω_init= 1e9 * 2 * np.pi,\n",
    "    δω_end= -6.5e9 * 2 * np.pi,\n",
    "    num_probe = 5000, \n",
    ")\n"
   ]
  },
  {
   "cell_type": "code",
   "execution_count": null,
   "metadata": {},
   "outputs": [],
   "source": [
    "solver = pyLLE.LLEsolver(sim=sim, res=res,debug=True)\n",
    "fig = solver.Analyze(plot=True)\n",
    "fig.update_yaxes(range = [-50, 50], title = 'D<sub>int</sub> (GHz)')\n",
    "fig.show()"
   ]
  },
  {
   "cell_type": "code",
   "execution_count": null,
   "metadata": {},
   "outputs": [],
   "source": [
    "solver.disp\n",
    "solver.sim\n",
    "solver.res"
   ]
  },
  {
   "cell_type": "code",
   "execution_count": null,
   "metadata": {},
   "outputs": [],
   "source": [
    "print(f\"R = {solver.res.R}\")\n",
    "print(f\"Pin = {solver.sim.Pin}\")\n",
    "print(f\"D1 = {solver.disp.D1*1e-9/(2*np.pi)} x 2π GHz\")"
   ]
  },
  {
   "cell_type": "code",
   "execution_count": null,
   "metadata": {},
   "outputs": [],
   "source": [
    "solver.Setup(verbose = True)\n",
    "solver.SolveTemporal(bin = \"/usr/local/bin/julia\",verbose=False)\n",
    "time.sleep(1)\n",
    "solver.RetrieveData()\n",
    "solver.sol"
   ]
  },
  {
   "cell_type": "code",
   "execution_count": null,
   "metadata": {},
   "outputs": [],
   "source": [
    "solver.PlotCombSpectra(3345).show()"
   ]
  },
  {
   "cell_type": "code",
   "execution_count": null,
   "metadata": {},
   "outputs": [],
   "source": [
    "#loop reflector parameters\n",
    "r=0.0\n",
    "phi=np.pi\n",
    "R=np.sqrt(r)*np.exp(1j*phi)\n",
    "res = dict(\n",
    "        R=23e-6, \n",
    "        Qi=1e6, \n",
    "        Qc=1e6, \n",
    "        γ=3.2, \n",
    "        dispfile=\"./RW1000_H430.csv\",\n",
    "        Bragg=.50e9,#In terms of frequency shift that the pump mode observes due to bragg\n",
    "        loop_ref_real=np.real(R),\n",
    "        loop_ref_imag=np.imag(R) #Reflection coefficient induced effectively by the isolator+loop\n",
    "\n",
    ")\n",
    "\n",
    "sim = dict(\n",
    "    Pin=[140e-3], \n",
    "    f_pmp=[283e12],\n",
    "    φ_pmp=[0], \n",
    "    δω=[None], \n",
    "    Tscan=0.7e6,\n",
    "    μ_sim=[-220, 220],\n",
    "    δω_init= 1e9 * 2 * np.pi,\n",
    "    δω_end= -6.5e9 * 2 * np.pi,\n",
    "    num_probe = 5000, \n",
    ")\n",
    "\n",
    "solver = pyLLE.LLEsolver(sim=sim, res=res,debug=True)\n",
    "fig = solver.Analyze(plot=True)\n",
    "fig.update_yaxes(range = [-50, 50], title = 'D<sub>int</sub> (GHz)')\n",
    "fig.show()"
   ]
  },
  {
   "cell_type": "code",
   "execution_count": null,
   "metadata": {},
   "outputs": [],
   "source": [
    "solver.disp\n",
    "solver.sim\n",
    "solver.res"
   ]
  },
  {
   "cell_type": "code",
   "execution_count": null,
   "metadata": {},
   "outputs": [],
   "source": [
    "solver.Setup(verbose = True)\n",
    "solver.SolveTemporal(bin = \"/usr/local/bin/julia\",verbose=False)\n",
    "time.sleep(1)\n",
    "solver.RetrieveData()\n",
    "solver.sol"
   ]
  },
  {
   "cell_type": "code",
   "execution_count": null,
   "metadata": {},
   "outputs": [],
   "source": [
    "solver.PlotCombSpectra(3345).show()\n"
   ]
  },
  {
   "cell_type": "code",
   "execution_count": null,
   "metadata": {},
   "outputs": [],
   "source": [
    "#loop reflector parameters\n",
    "r=0.0\n",
    "phi=np.pi\n",
    "R=np.sqrt(r)*np.exp(1j*phi)\n",
    "res = dict(\n",
    "        R=23e-6, \n",
    "        Qi=1e6, \n",
    "        Qc=1e6, \n",
    "        γ=3.2, \n",
    "        dispfile=\"./RW1000_H430.csv\",\n",
    "        Bragg=1.0e9,#In terms of frequency shift that the pump mode observes due to bragg\n",
    "        loop_ref_real=np.real(R),\n",
    "        loop_ref_imag=np.imag(R) #Reflection coefficient induced effectively by the isolator+loop\n",
    "\n",
    ")\n",
    "\n",
    "sim = dict(\n",
    "    Pin=[140e-3], \n",
    "    f_pmp=[283e12],\n",
    "    φ_pmp=[0], \n",
    "    δω=[None], \n",
    "    Tscan=0.7e6,\n",
    "    μ_sim=[-220, 220],\n",
    "    δω_init= 1e9 * 2 * np.pi,\n",
    "    δω_end= -6.5e9 * 2 * np.pi,\n",
    "    num_probe = 5000, \n",
    ")\n",
    "\n",
    "solver = pyLLE.LLEsolver(sim=sim, res=res,debug=True)\n",
    "fig = solver.Analyze(plot=True)\n",
    "fig.update_yaxes(range = [-50, 50], title = 'D<sub>int</sub> (GHz)')\n",
    "fig.show()"
   ]
  },
  {
   "cell_type": "code",
   "execution_count": null,
   "metadata": {},
   "outputs": [],
   "source": [
    "solver.disp\n",
    "solver.sim\n",
    "solver.res"
   ]
  },
  {
   "cell_type": "code",
   "execution_count": null,
   "metadata": {},
   "outputs": [],
   "source": [
    "solver.Setup(verbose = True)\n",
    "solver.SolveTemporal(bin = \"/usr/local/bin/julia\",verbose=False)\n",
    "time.sleep(1)\n",
    "solver.RetrieveData()\n",
    "solver.sol"
   ]
  },
  {
   "cell_type": "code",
   "execution_count": null,
   "metadata": {},
   "outputs": [],
   "source": [
    "solver.PlotCombSpectra(3345).show()\n"
   ]
  },
  {
   "cell_type": "code",
   "execution_count": null,
   "metadata": {},
   "outputs": [],
   "source": [
    "#loop reflector parameters\n",
    "r=0.0\n",
    "phi=np.pi\n",
    "R=np.sqrt(r)*np.exp(1j*phi)\n",
    "res = dict(\n",
    "        R=23e-6, \n",
    "        Qi=1e6, \n",
    "        Qc=1e6, \n",
    "        γ=3.2, \n",
    "        dispfile=\"./RW1000_H430.csv\",\n",
    "        Bragg=5.0e9,#In terms of frequency shift that the pump mode observes due to bragg\n",
    "        loop_ref_real=np.real(R),\n",
    "        loop_ref_imag=np.imag(R) #Reflection coefficient induced effectively by the isolator+loop\n",
    "\n",
    ")\n",
    "\n",
    "sim = dict(\n",
    "    Pin=[140e-3], \n",
    "    f_pmp=[283e12],\n",
    "    φ_pmp=[0], \n",
    "    δω=[None], \n",
    "    Tscan=0.7e6,\n",
    "    μ_sim=[-220, 220],\n",
    "    δω_init= 1e9 * 2 * np.pi,\n",
    "    δω_end= -6.5e9 * 2 * np.pi,\n",
    "    num_probe = 5000, \n",
    ")\n",
    "\n",
    "solver = pyLLE.LLEsolver(sim=sim, res=res,debug=True)\n",
    "fig = solver.Analyze(plot=True)\n",
    "fig.update_yaxes(range = [-50, 50], title = 'D<sub>int</sub> (GHz)')\n",
    "fig.show()"
   ]
  },
  {
   "cell_type": "code",
   "execution_count": null,
   "metadata": {},
   "outputs": [],
   "source": [
    "solver.disp\n",
    "solver.sim\n",
    "solver.res"
   ]
  },
  {
   "cell_type": "code",
   "execution_count": null,
   "metadata": {},
   "outputs": [],
   "source": [
    "solver.Setup(verbose = True)\n",
    "solver.SolveTemporal(bin = \"/usr/local/bin/julia\",verbose=False)\n",
    "time.sleep(1)\n",
    "solver.RetrieveData()\n",
    "solver.sol"
   ]
  },
  {
   "cell_type": "code",
   "execution_count": null,
   "metadata": {},
   "outputs": [],
   "source": [
    "solver.PlotCombSpectra(3345).show()\n"
   ]
  },
  {
   "cell_type": "code",
   "execution_count": null,
   "metadata": {},
   "outputs": [],
   "source": [
    "#loop reflector parameters\n",
    "r=0.0\n",
    "phi=np.pi\n",
    "R=np.sqrt(r)*np.exp(1j*phi)\n",
    "res = dict(\n",
    "        R=23e-6, \n",
    "        Qi=1e6, \n",
    "        Qc=1e6, \n",
    "        γ=3.2, \n",
    "        dispfile=\"./RW1000_H430.csv\",\n",
    "        Bragg=20.0e9,#In terms of frequency shift that the pump mode observes due to bragg\n",
    "        loop_ref_real=np.real(R),\n",
    "        loop_ref_imag=np.imag(R) #Reflection coefficient induced effectively by the isolator+loop\n",
    "\n",
    ")\n",
    "\n",
    "sim = dict(\n",
    "    Pin=[140e-3], \n",
    "    f_pmp=[283e12],\n",
    "    φ_pmp=[0], \n",
    "    δω=[None], \n",
    "    Tscan=0.7e6,\n",
    "    μ_sim=[-220, 220],\n",
    "    δω_init= 1e9 * 2 * np.pi,\n",
    "    δω_end= -6.5e9 * 2 * np.pi,\n",
    "    num_probe = 5000, \n",
    ")\n",
    "\n",
    "solver = pyLLE.LLEsolver(sim=sim, res=res,debug=True)\n",
    "fig = solver.Analyze(plot=True)\n",
    "fig.update_yaxes(range = [-50, 50], title = 'D<sub>int</sub> (GHz)')\n",
    "fig.show()"
   ]
  },
  {
   "cell_type": "code",
   "execution_count": null,
   "metadata": {},
   "outputs": [],
   "source": [
    "solver.disp\n",
    "solver.sim\n",
    "solver.res"
   ]
  },
  {
   "cell_type": "code",
   "execution_count": null,
   "metadata": {},
   "outputs": [],
   "source": [
    "solver.Setup(verbose = True)\n",
    "solver.SolveTemporal(bin = \"/usr/local/bin/julia\",verbose=False)\n",
    "time.sleep(1)\n",
    "solver.RetrieveData()\n",
    "solver.sol"
   ]
  },
  {
   "cell_type": "code",
   "execution_count": null,
   "metadata": {},
   "outputs": [],
   "source": [
    "solver.PlotCombSpectra(3345).show()\n"
   ]
  }
 ],
 "metadata": {
  "kernelspec": {
   "display_name": "diamond",
   "language": "python",
   "name": "python3"
  },
  "language_info": {
   "codemirror_mode": {
    "name": "ipython",
    "version": 3
   },
   "file_extension": ".py",
   "mimetype": "text/x-python",
   "name": "python",
   "nbconvert_exporter": "python",
   "pygments_lexer": "ipython3",
   "version": "3.10.4"
  }
 },
 "nbformat": 4,
 "nbformat_minor": 2
}
